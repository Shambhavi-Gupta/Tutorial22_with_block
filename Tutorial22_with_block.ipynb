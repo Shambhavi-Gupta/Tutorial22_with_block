{
  "nbformat": 4,
  "nbformat_minor": 0,
  "metadata": {
    "colab": {
      "name": "Tutorial22_with_block.ipynb",
      "provenance": [],
      "authorship_tag": "ABX9TyPory8NSedBe/fgRaVluFEO",
      "include_colab_link": true
    },
    "kernelspec": {
      "name": "python3",
      "display_name": "Python 3"
    }
  },
  "cells": [
    {
      "cell_type": "markdown",
      "metadata": {
        "id": "view-in-github",
        "colab_type": "text"
      },
      "source": [
        "<a href=\"https://colab.research.google.com/github/Shambhavi-Gupta/Tutorial22_with_block/blob/main/Tutorial22_with_block.ipynb\" target=\"_parent\"><img src=\"https://colab.research.google.com/assets/colab-badge.svg\" alt=\"Open In Colab\"/></a>"
      ]
    },
    {
      "cell_type": "code",
      "metadata": {
        "id": "l33gj5628Kgp"
      },
      "source": [
        "with open(\"write.txt\") as f:\r\n",
        "    a = f.read(20)\r\n",
        "    print(a)\r\n",
        "\r\n",
        "#f=open(\"write.txt\" , \"rt\")\r\n",
        "#print(f.readline())\r\n",
        "#print(f.readlines())\r\n",
        "#f.close()"
      ],
      "execution_count": null,
      "outputs": []
    }
  ]
}